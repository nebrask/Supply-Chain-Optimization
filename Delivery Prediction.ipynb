{
 "cells": [
  {
   "cell_type": "code",
   "execution_count": null,
   "id": "e90f74be",
   "metadata": {},
   "outputs": [],
   "source": [
    "import pandas as pd\n",
    "import numpy as np\n",
    "\n",
    "df = pd.read_csv('deliveries.csv')\n",
    "df.head()"
   ]
  },
  {
   "cell_type": "code",
   "execution_count": null,
   "id": "fc18a472",
   "metadata": {},
   "outputs": [],
   "source": [
    "# Converts the 'Scheduled Delivery Date' column in a pandas DataFrame to a datetime data type and\n",
    "# then sets it as the index of the DataFrame.\n",
    "\n",
    "df['Scheduled Delivery Date'] = pd.to_datetime(df['Scheduled Delivery Date'])\n",
    "df.set_index('Scheduled Delivery Date', inplace = True)"
   ]
  },
  {
   "cell_type": "code",
   "execution_count": null,
   "id": "420812bd",
   "metadata": {},
   "outputs": [],
   "source": [
    "# Counts the number of deliveries made in Canada in the year 2020\n",
    "\n",
    "temp_df = df[df['Country'] == 'Canada']\n",
    "df['year'] = df.index.year\n",
    "sa = df.groupby('year').count().loc[2020]['ID']"
   ]
  },
  {
   "cell_type": "code",
   "execution_count": null,
   "id": "4046232b",
   "metadata": {},
   "outputs": [],
   "source": [
    "# Creates a new DataFrame sr that includes the 'Line Item Quantity' column from the original DataFrame df\n",
    "# Then creates three new columns in sr called 'shift_2', 'shift_10', and 'shift_20' \n",
    "# by shifting the 'Line Item Quantity' values by 2, 10, and 20 rows\n",
    "\n",
    "sr = pd.DataFrame(df['Line Item Quantity'])\n",
    "sr['shift_2'] = sr['Line Item Quantity'].shift(2)\n",
    "sr['shift_10'] = sr['Line Item Quantity'].shift(10)\n",
    "sr['shift_20'] = sr['Line Item Quantity'].shift(20)"
   ]
  },
  {
   "cell_type": "code",
   "execution_count": null,
   "id": "89802c66",
   "metadata": {},
   "outputs": [],
   "source": [
    "# Calculates the autocorrelation of the 'Line Item Quantity' column in a DataFrame with a lag of 10\n",
    "\n",
    "ac = sr['Line Item Quantity'].autocorr(10)"
   ]
  },
  {
   "cell_type": "code",
   "execution_count": null,
   "id": "231ccea4",
   "metadata": {},
   "outputs": [],
   "source": [
    "# Will use SARIMA model in getting predictions from sr dataframe"
   ]
  },
  {
   "cell_type": "code",
   "execution_count": null,
   "id": "b57b14ee",
   "metadata": {},
   "outputs": [],
   "source": []
  },
  {
   "cell_type": "code",
   "execution_count": null,
   "id": "d83d6e44",
   "metadata": {},
   "outputs": [],
   "source": []
  },
  {
   "cell_type": "code",
   "execution_count": null,
   "id": "14c952cc",
   "metadata": {},
   "outputs": [],
   "source": []
  }
 ],
 "metadata": {
  "kernelspec": {
   "display_name": "Python 3 (ipykernel)",
   "language": "python",
   "name": "python3"
  },
  "language_info": {
   "codemirror_mode": {
    "name": "ipython",
    "version": 3
   },
   "file_extension": ".py",
   "mimetype": "text/x-python",
   "name": "python",
   "nbconvert_exporter": "python",
   "pygments_lexer": "ipython3",
   "version": "3.10.7"
  }
 },
 "nbformat": 4,
 "nbformat_minor": 5
}
